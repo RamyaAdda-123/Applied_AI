{
 "cells": [
  {
   "cell_type": "markdown",
   "metadata": {},
   "source": [
    "1. Write a function that inputs a number and prints the multiplication table of that number"
   ]
  },
  {
   "cell_type": "code",
   "execution_count": 1,
   "metadata": {},
   "outputs": [
    {
     "name": "stdout",
     "output_type": "stream",
     "text": [
      "enter the number for multiplication table: 9\n",
      "9 * 1 = 9\n",
      "9 * 2 = 18\n",
      "9 * 3 = 27\n",
      "9 * 4 = 36\n",
      "9 * 5 = 45\n",
      "9 * 6 = 54\n",
      "9 * 7 = 63\n",
      "9 * 8 = 72\n",
      "9 * 9 = 81\n",
      "9 * 10 = 90\n",
      "9 * 11 = 99\n",
      "9 * 12 = 108\n",
      "9 * 13 = 117\n",
      "9 * 14 = 126\n",
      "9 * 15 = 135\n",
      "9 * 16 = 144\n",
      "9 * 17 = 153\n",
      "9 * 18 = 162\n",
      "9 * 19 = 171\n",
      "9 * 20 = 180\n"
     ]
    }
   ],
   "source": [
    "#Pgrogram to print multiplication table of a number\n",
    "def multiplication(num):\n",
    "    for i in range(1,21):\n",
    "        print(\"{} * {} = {}\".format(num,i,(num*i)))\n",
    "    return\n",
    "number=int(input(\"enter the number for multiplication table: \"))\n",
    "multiplication(number)"
   ]
  },
  {
   "cell_type": "markdown",
   "metadata": {},
   "source": [
    "2. Write a program to print twin primes less than 1000. If two consecutive odd numbers are\n",
    "both prime then they are known as twin primes"
   ]
  },
  {
   "cell_type": "code",
   "execution_count": 2,
   "metadata": {},
   "outputs": [
    {
     "name": "stdout",
     "output_type": "stream",
     "text": [
      "twin primes are:\n",
      "(3,5),(5,7),(11,13),(17,19),(29,31),(41,43),(59,61),(71,73),(101,103),(107,109),(137,139),(149,151),(179,181),(191,193),(197,199),(227,229),(239,241),(269,271),(281,283),(311,313),(347,349),(419,421),(431,433),(461,463),(521,523),(569,571),(599,601),(617,619),(641,643),(659,661),(809,811),(821,823),(827,829),(857,859),(881,883),"
     ]
    }
   ],
   "source": [
    "#Program to print twin primes\n",
    "def twin_primes():\n",
    "    li=[]\n",
    "    # iterating to find the prime numbers below 1000\n",
    "    for i in range(2,1001):\n",
    "        #initializing counter variable to find whether a number is prime or not\n",
    "        count=0\n",
    "        for j in range(1,i):def amicablenumbers(num):\n",
    "    li=[i for i in range(1,(num+1))]\n",
    "    list=[]\n",
    "    for j in li:\n",
    "        for k in range(1,j):\n",
    "            if j%k==0:\n",
    "                list.append(j)\n",
    "        res=0\n",
    "        for s in list:\n",
    "            res+=s\n",
    "        if res in li:\n",
    "            print(\"{} and {} are amicable numbers\".format(j,res))\n",
    "number=int(input(\"enter a range : \"))\n",
    "amicablenumbers(number)\n",
    "            \n",
    "                \n",
    "            if i%j==0:\n",
    "                count+=1\n",
    "            if count>1:\n",
    "                break\n",
    "        if count==1:\n",
    "            li.append(i)\n",
    "    #iterating to find twin_primes\n",
    "    print(\"twin primes are:\")\n",
    "    for k in range((len(li)-1)):\n",
    "        if li[k]+2 in li:\n",
    "            print(\"({},{})\".format((li[k]),(li[k]+2)),end=\",\")\n",
    "twin_primes()\n",
    "                "
   ]
  },
  {
   "cell_type": "markdown",
   "metadata": {},
   "source": [
    "3. Write a program to find out the prime factors of a number. Example: prime factors of 56 -\n",
    "2, 2, 2, 7"
   ]
  },
  {
   "cell_type": "code",
   "execution_count": 3,
   "metadata": {},
   "outputs": [
    {
     "name": "stdout",
     "output_type": "stream",
     "text": [
      "enter a number : 56\n",
      "prime factors of 56 :\n"
     ]
    },
    {
     "data": {
      "text/plain": [
       "[2, 2, 2, 7]"
      ]
     },
     "execution_count": 3,
     "metadata": {},
     "output_type": "execute_result"
    }
   ],
   "source": [
    "#Program to find prime factors of a number\n",
    "def prime_factors(num):\n",
    "    if num<2:\n",
    "        print(\"number should be greater than 2\")\n",
    "    elif num==2:\n",
    "        print(\"prime factor is 2 is 2\")\n",
    "    elif num>2:\n",
    "        print(\"prime factors of {} :\".format(num))\n",
    "        li=[]\n",
    "        for i in range(2,num):\n",
    "            #initializing counter \n",
    "            count=0\n",
    "            flag=0\n",
    "            for j in range(2,i):\n",
    "                if i%j==0:\n",
    "                    count+=1\n",
    "                if count>1:\n",
    "                    break\n",
    "            if count==0:\n",
    "                while(flag==0):\n",
    "                    if num%i==0:\n",
    "                        li.append(i)\n",
    "                        rem=num//i\n",
    "                        num=rem\n",
    "                    else:\n",
    "                        flag=1\n",
    "        return li\n",
    "n=int(input(\"enter a number : \"))\n",
    "prime_factors(n)"
   ]
  },
  {
   "cell_type": "markdown",
   "metadata": {},
   "source": [
    "4. Write a program to implement these formulae of permutations and combinations.\n",
    "Number of permutations of n objects taken r at a time: p(n, r) = n! / (n-r)!. Number of\n",
    "combinations of n objects taken r at a time is: c(n, r) = n! / (r!*(n-r)!) = p(n,r) / r!"
   ]
  },
  {
   "cell_type": "code",
   "execution_count": 4,
   "metadata": {},
   "outputs": [
    {
     "name": "stdout",
     "output_type": "stream",
     "text": [
      "enter number of objects: 6\n",
      "enter number of objects taken at a time: 1\n",
      "permutations of p(6,1)=0.5\n",
      "combinations of c(6,1)=0.5\n"
     ]
    }
   ],
   "source": [
    "def permutations(n,r):\n",
    "    fact=1\n",
    "    fact1=1\n",
    "    fact2=1\n",
    "    for i in range(n,1,-1):\n",
    "        fact=fact*i\n",
    "    res=n-r\n",
    "    if res==0 or res==1:\n",
    "        res=1\n",
    "    else:\n",
    "        for j in range(res,1,-1):\n",
    "            fact1=fact*j\n",
    "    permutation=fact/fact1\n",
    "    for k in range(r,1,-1):\n",
    "        fact2=fat2*k\n",
    "    combinations=permutation/fact2\n",
    "    print(\"permutations of p({},{})={}\".format(n,r,permutation))\n",
    "    print(\"combinations of c({},{})={}\".format(n,r,combinations))\n",
    "n=int(input(\"enter number of objects: \"))\n",
    "r=int(input(\"enter number of objects taken at a time: \"))\n",
    "permutations(n,r)\n",
    "    \n",
    "            \n",
    "        "
   ]
  },
  {
   "cell_type": "markdown",
   "metadata": {},
   "source": [
    " 5. Write a function that converts a decimal number to binary number"
   ]
  },
  {
   "cell_type": "code",
   "execution_count": 5,
   "metadata": {},
   "outputs": [
    {
     "name": "stdout",
     "output_type": "stream",
     "text": [
      "enter a decimal number to convert into binary number : 8\n",
      "binary number of 2 is : 1000"
     ]
    }
   ],
   "source": [
    "def decimal_to_binary(n):\n",
    "    li=[]\n",
    "    flag=0\n",
    "    while flag==0:\n",
    "        rem=n%2\n",
    "        quotient=n//2\n",
    "        li.append(rem)\n",
    "        if quotient==1:\n",
    "            li.append(quotient)\n",
    "            flag=1\n",
    "        else:\n",
    "            n=quotient\n",
    "    l2=li[::-1]\n",
    "    print(\"binary number of {} is\".format(n),end=\" : \")\n",
    "    for k in l2:\n",
    "        print(k,end=\"\")\n",
    "number=int(input(\"enter a decimal number to convert into binary number : \"))\n",
    "decimal_to_binary(number)"
   ]
  },
  {
   "cell_type": "markdown",
   "metadata": {},
   "source": [
    "6. Write a function cubesum() that accepts an integer and returns the sum of the cubes of\n",
    "individual digits of that number. Use this function to make functions PrintArmstrong() and\n",
    "isArmstrong() to print Armstrong numbers and to find whether is an Armstrong number."
   ]
  },
  {
   "cell_type": "code",
   "execution_count": 6,
   "metadata": {},
   "outputs": [
    {
     "name": "stdout",
     "output_type": "stream",
     "text": [
      "Enter a number to check whether it is armstrong or not : 153\n",
      "153 is armstrong number\n"
     ]
    }
   ],
   "source": [
    "#Program to find given number is armstrong number or not\n",
    "#To find cubes of invididual digits of a number\n",
    "def cubesum(num):\n",
    "    flag=0\n",
    "    li=[]\n",
    "    res=0\n",
    "    while flag==0:\n",
    "        rem=num%10\n",
    "        quotient=num//10\n",
    "        li.append(rem)\n",
    "        if quotient<10:\n",
    "            li.append(quotient)\n",
    "            flag=1\n",
    "        else:\n",
    "            num=quotient\n",
    "    for i in li:\n",
    "        res=res+(i**3)\n",
    "    return res\n",
    "def printArmstrong(n):\n",
    "    print(\"{} is armstrong number\".format(n))\n",
    "def isArmstrong(num1):\n",
    "    if num1==cubesum(num1):\n",
    "        printArmstrong(num1)\n",
    "number=int(input(\"Enter a number to check whether it is armstrong or not : \"))\n",
    "isArmstrong(number)\n"
   ]
  },
  {
   "cell_type": "markdown",
   "metadata": {},
   "source": [
    "7. Write a function prodDigits() that inputs a number and returns the product of digits of that\n",
    "number."
   ]
  },
  {
   "cell_type": "code",
   "execution_count": 7,
   "metadata": {},
   "outputs": [
    {
     "name": "stdout",
     "output_type": "stream",
     "text": [
      "enter a number : 1234\n",
      "product of digits of a 1234 is 24 \n"
     ]
    }
   ],
   "source": [
    "#Program to print product of digits of a number\n",
    "def prodDigits(n):\n",
    "    if n<10:\n",
    "        return n\n",
    "    else:\n",
    "        flag=0\n",
    "        li=[]\n",
    "        while flag==0:\n",
    "            rem=n%10\n",
    "            quotient=n//10\n",
    "            li.append(rem)\n",
    "            if quotient<10:\n",
    "                li.append(quotient)\n",
    "                flag=1\n",
    "            else:\n",
    "                n=quotient\n",
    "    res=1\n",
    "    for i in li:\n",
    "        res=res*i\n",
    "    return res\n",
    "number=int(input(\"enter a number : \"))\n",
    "print(\"product of digits of a {} is {} \".format(number,prodDigits(number)))"
   ]
  },
  {
   "cell_type": "markdown",
   "metadata": {},
   "source": [
    "8. If all digits of a number n are multiplied by each other repeating with the product, the one\n",
    "digit number obtained at last is called the multiplicative digital root of n. The number of\n",
    "times digits need to be multiplied to reach one digit is called the multiplicative\n",
    "persistance of n.\n",
    "Example: 86 -> 48 -> 32 -> 6 (MDR 6, MPersistence 3)\n",
    " 341 -> 12->2 (MDR 2, MPersistence 2)\n",
    "Using the function prodDigits() of previous exercise write functions MDR() and\n",
    "MPersistence() that input a number and return its multiplicative digital root and\n",
    "multiplicative persistence respectively"
   ]
  },
  {
   "cell_type": "code",
   "execution_count": 8,
   "metadata": {},
   "outputs": [
    {
     "name": "stdout",
     "output_type": "stream",
     "text": [
      "enter a number : 86\n",
      "multiplicative digit root of 86 is 6\n",
      "multiplicative persistance of 86 is 3\n"
     ]
    }
   ],
   "source": [
    "def MDR(number):\n",
    "    flag=0\n",
    "    while flag==0:\n",
    "        s=prodDigits(number)\n",
    "        if s<10:\n",
    "            break\n",
    "        else:\n",
    "            number=s\n",
    "    return s\n",
    "def MRPersistence(number):\n",
    "    flag=0\n",
    "    count=1\n",
    "    while flag==0:\n",
    "        s=prodDigits(number)\n",
    "        if s<10:\n",
    "            break\n",
    "        else:\n",
    "            number=s\n",
    "            count+=1\n",
    "    return count\n",
    "number=int(input(\"enter a number : \"))\n",
    "print(\"multiplicative digit root of {} is {}\".format(number,MDR(number)))\n",
    "print(\"multiplicative persistance of {} is {}\".format(number,MRPersistence(number)))"
   ]
  },
  {
   "cell_type": "markdown",
   "metadata": {},
   "source": [
    "9. Write a function sumPdivisors() that finds the sum of proper divisors of a number. Proper\n",
    "divisors of a number are those numbers by which the number is divisible, except the\n",
    "number itself. For example proper divisors of 36 are 1, 2, 3, 4, 6, 9, 18"
   ]
  },
  {
   "cell_type": "code",
   "execution_count": 9,
   "metadata": {},
   "outputs": [
    {
     "name": "stdout",
     "output_type": "stream",
     "text": [
      "enter a number: 36\n",
      "proper divisors of a 36 are: \n",
      "1,2,3,4,6,9,12,18,"
     ]
    }
   ],
   "source": [
    "def sumPdivisors(n):\n",
    "    for i in range(1,(n//2)+1):\n",
    "        if n%i==0:\n",
    "            print(i,end=\",\")\n",
    "number=int(input(\"enter a number: \"))\n",
    "print(\"proper divisors of a {} are: \".format(number))\n",
    "sumPdivisors(number)"
   ]
  },
  {
   "cell_type": "markdown",
   "metadata": {},
   "source": [
    "10. A number is called perfect if the sum of proper divisors of that number is equal to the\n",
    "number. For example 28 is perfect number, since 1+2+4+7+14=28. Write a program to\n",
    "print all the perfect numbers in a given range"
   ]
  },
  {
   "cell_type": "code",
   "execution_count": 10,
   "metadata": {},
   "outputs": [
    {
     "name": "stdout",
     "output_type": "stream",
     "text": [
      "enter a range of number:  100\n",
      "perfect numbers between 1 and 100 are :\n",
      "[6, 28]\n"
     ]
    }
   ],
   "source": [
    "def sumPdivisors(num):\n",
    "    li=[]\n",
    "    l1=[]\n",
    "    for n in range(6,num):\n",
    "        for i in range(1,n):\n",
    "            if n%i==0:\n",
    "                li.append(i)\n",
    "        res=0\n",
    "        for k in li:\n",
    "            res+=k\n",
    "        if res==n:\n",
    "            l1.append(res)\n",
    "        li.clear()\n",
    "    print(l1)\n",
    "number=int(input(\"enter a range of number:  \"))\n",
    "print(\"perfect numbers between {} and {} are :\".format(1,number))\n",
    "sumPdivisors(number)\n",
    "    \n"
   ]
  },
  {
   "cell_type": "markdown",
   "metadata": {},
   "source": [
    "11. Two different numbers are called amicable numbers if the sum of the proper divisors of\n",
    "each is equal to the other number. For example 220 and 284 are amicable numbers.\n",
    "Sum of proper divisors of 220 = 1+2+4+5+10+11+20+22+44+55+110 = 284\n",
    "Sum of proper divisors of 284 = 1+2+4+71+142 = 220\n",
    "Write a function to print pairs of amicable numbers in a range"
   ]
  },
  {
   "cell_type": "code",
   "execution_count": 12,
   "metadata": {},
   "outputs": [
    {
     "name": "stdout",
     "output_type": "stream",
     "text": [
      "enter a range : 200\n",
      "enter a range : 400\n",
      "220 and 284 are amicable numbers\n"
     ]
    }
   ],
   "source": [
    "def amicablenumbers(num1,num2):\n",
    "    list=[]\n",
    "    li=[]\n",
    "    l2=[]\n",
    "    for j in range(num1,num2):\n",
    "        if j not in l2:\n",
    "            for k in range(1,j):\n",
    "                if j%k==0:\n",
    "                    list.append(k)\n",
    "            res=0\n",
    "            for s in list:\n",
    "                res+=s\n",
    "            for z in range(1,res):\n",
    "                if res%z==0:\n",
    "                    li.append(z)\n",
    "            total=0\n",
    "            for y in li:\n",
    "                total+=y\n",
    "            if total==j:\n",
    "                l2.append(res)\n",
    "                print(\"{} and {} are amicable numbers\".format(j,res))\n",
    "        li.clear()\n",
    "        list.clear()\n",
    "number=int(input(\"enter a range : \"))\n",
    "number1=int(input(\"enter a range : \"))\n",
    "amicablenumbers(number,number1)\n",
    "            \n",
    "                \n"
   ]
  },
  {
   "cell_type": "markdown",
   "metadata": {},
   "source": [
    "12. Write a program which can filter odd numbers in a list by using filter function"
   ]
  },
  {
   "cell_type": "code",
   "execution_count": 14,
   "metadata": {},
   "outputs": [
    {
     "name": "stdout",
     "output_type": "stream",
     "text": [
      "odd numbers in a list are :\n",
      "1\n",
      "3\n",
      "5\n",
      "7\n"
     ]
    }
   ],
   "source": [
    "li=[1,2,3,4,5,6,7,8]\n",
    "s=filter(lambda i:i%2==1,li)\n",
    "print(\"odd numbers in a list are :\")\n",
    "for j in s:\n",
    "    print(j)"
   ]
  },
  {
   "cell_type": "code",
   "execution_count": 15,
   "metadata": {},
   "outputs": [
    {
     "name": "stdout",
     "output_type": "stream",
     "text": [
      "1,8,27,64,125,216,343,"
     ]
    }
   ],
   "source": [
    "li=[1,2,3,4,5,6,7,]\n",
    "l=map(lambda i:i**3,li)\n",
    "for k in l:\n",
    "    print(k,end=\",\")\n"
   ]
  },
  {
   "cell_type": "markdown",
   "metadata": {},
   "source": [
    "14. Write a program which can map() and filter() to make a list whose elements are cube of\n",
    "even number in a given list"
   ]
  },
  {
   "cell_type": "code",
   "execution_count": 17,
   "metadata": {},
   "outputs": [
    {
     "name": "stdout",
     "output_type": "stream",
     "text": [
      "8,64,216,"
     ]
    }
   ],
   "source": [
    "j=filter(lambda i:i%2==0,li)\n",
    "k=map(lambda i:i**3,j)\n",
    "for p in k:\n",
    "    print(p,end=\",\")\n",
    "\n"
   ]
  },
  {
   "cell_type": "code",
   "execution_count": null,
   "metadata": {},
   "outputs": [],
   "source": []
  }
 ],
 "metadata": {
  "kernelspec": {
   "display_name": "Python 3",
   "language": "python",
   "name": "python3"
  },
  "language_info": {
   "codemirror_mode": {
    "name": "ipython",
    "version": 3
   },
   "file_extension": ".py",
   "mimetype": "text/x-python",
   "name": "python",
   "nbconvert_exporter": "python",
   "pygments_lexer": "ipython3",
   "version": "3.7.6"
  }
 },
 "nbformat": 4,
 "nbformat_minor": 4
}
