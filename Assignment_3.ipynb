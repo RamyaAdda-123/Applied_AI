{
 "cells": [
  {
   "cell_type": "markdown",
   "metadata": {
    "colab_type": "text",
    "id": "l0ZzOlyxB-kf"
   },
   "source": [
    "<h1>Python: without numpy or sklearn </h1>"
   ]
  },
  {
   "cell_type": "markdown",
   "metadata": {
    "colab_type": "text",
    "id": "C0xO8JV9B-ki"
   },
   "source": [
    "<h3> Q1: Given two matrices please print the product of those two matrices </h3>\n",
    "<pre>\n",
    "\n",
    "Ex 1: A   = [[1 3 4]\n",
    "             [2 5 7]\n",
    "             [5 9 6]]\n",
    "      B   = [[1 0 0]\n",
    "             [0 1 0]\n",
    "             [0 0 1]]\n",
    "      A*B = [[1 3 4]\n",
    "             [2 5 7]\n",
    "             [5 9 6]]\n",
    "\n",
    "     \n",
    "Ex 2: A   = [[1 2]\n",
    "             [3 4]]\n",
    "      B   = [[1 2 3 4 5]\n",
    "             [5 6 7 8 9]]\n",
    "      A*B = [[11 14 17 20 23]\n",
    "             [18 24 30 36 42]]\n",
    "             \n",
    "Ex 3: A   = [[1 2]\n",
    "             [3 4]]\n",
    "      B   = [[1 4]\n",
    "             [5 6]\n",
    "             [7 8]\n",
    "             [9 6]]\n",
    "      A*B =Not possible\n",
    "</pre>"
   ]
  },
  {
   "cell_type": "code",
   "execution_count": 3,
   "metadata": {
    "colab": {},
    "colab_type": "code",
    "id": "rnssAfpgB-kj"
   },
   "outputs": [
    {
     "name": "stdout",
     "output_type": "stream",
     "text": [
      "[[11, 14, 17, 20, 23], [23, 30, 37, 44, 51]]\n"
     ]
    }
   ],
   "source": [
    "def matrix_mul(A, B):\n",
    "    mat=[]\n",
    "    for i in A:\n",
    "        p=i\n",
    "        temp=[]\n",
    "        for k in range(len(B[0])):\n",
    "            res=0\n",
    "            i=0\n",
    "            for j in range(len(p)):\n",
    "                res=res+(p[j]*B[i][k])\n",
    "                i+=1\n",
    "            temp.append(res)\n",
    "        mat.append(temp) \n",
    "    return mat \n",
    "A   = [[1,2],[3,4]]\n",
    "B   = [[1,2 ,3, 4, 5],[5, 6 ,7 ,8, 9]]\n",
    "if ((len([A][0]))==(len(B))):              #checks the condition for matrix multiplication\n",
    "          print(matrix_mul(A,B))\n",
    "else:\n",
    "    print(\"matrix multiplication is not posiible\")"
   ]
  },
  {
   "cell_type": "markdown",
   "metadata": {
    "colab_type": "text",
    "id": "at4VwLggB-kn"
   },
   "source": [
    "<h3> Q2: Select a number randomly with probability proportional to its magnitude from the given array of n elements</h3>\n",
    "\n",
    "consider an experiment, selecting an element from the list A randomly with probability proportional to its magnitude.\n",
    "assume we are doing the same experiment for 100 times with replacement, in each experiment you will print a number that is selected randomly from A.\n",
    "\n",
    "<pre>\n",
    "Ex 1: A = [0 5 27 6 13 28 100 45 10 79]\n",
    "let f(x) denote the number of times x getting selected in 100 experiments.\n",
    "f(100) > f(79) > f(45) > f(28) > f(27) > f(13) > f(10) > f(6) > f(5) > f(0)\n",
    "</pre>"
   ]
  },
  {
   "cell_type": "code",
   "execution_count": 7,
   "metadata": {
    "colab": {},
    "colab_type": "code",
    "id": "B6S2dpBhB-kn"
   },
   "outputs": [
    {
     "name": "stdout",
     "output_type": "stream",
     "text": [
      "4\n",
      "10\n",
      "4\n",
      "4\n",
      "10\n",
      "2.8\n",
      "4\n",
      "3.2\n",
      "4\n",
      "10\n",
      "10\n",
      "10\n",
      "10\n",
      "10\n",
      "10\n",
      "4\n",
      "4\n",
      "10\n",
      "3.2\n",
      "10\n",
      "10\n",
      "10\n",
      "4\n",
      "10\n",
      "10\n",
      "1.0\n",
      "4\n",
      "4\n",
      "10\n",
      "3.2\n",
      "10\n",
      "10\n",
      "10\n",
      "10\n",
      "10\n",
      "2.8\n",
      "10\n",
      "3.2\n",
      "2.8\n",
      "10\n",
      "4\n",
      "1.0\n",
      "4\n",
      "10\n",
      "4\n",
      "3.2\n",
      "4\n",
      "10\n",
      "10\n",
      "10\n",
      "10\n",
      "3.2\n",
      "10\n",
      "10\n",
      "10\n",
      "3.2\n",
      "2.8\n",
      "10\n",
      "1.0\n",
      "1.0\n",
      "3.2\n",
      "2.8\n",
      "10\n",
      "4\n",
      "2.8\n",
      "4\n",
      "10\n",
      "10\n",
      "4\n",
      "10\n",
      "4\n",
      "4\n",
      "10\n",
      "10\n",
      "10\n",
      "2.8\n",
      "4\n",
      "4\n",
      "10\n",
      "4\n",
      "4\n",
      "4\n",
      "1.0\n",
      "4\n",
      "3.2\n",
      "10\n",
      "10\n",
      "10\n",
      "3.2\n",
      "3.2\n",
      "2.8\n",
      "10\n",
      "10\n",
      "10\n",
      "10\n",
      "3.2\n",
      "10\n",
      "10\n",
      "4\n"
     ]
    }
   ],
   "source": [
    "from random import uniform\n",
    "def pick_a_number_from_list(A):\n",
    "    sum=0\n",
    "    for i in A:\n",
    "        sum=sum+i            #finding total sum of given magnitudes\n",
    "    temp=[]\n",
    "    for i in range(len(A)):\n",
    "        temp.append(A[i]/sum)  #normalizing using sum\n",
    "    temp2=[]\n",
    "    temp2.append(temp[0])\n",
    "    for i in range(1,len(A)):\n",
    "        temp2.append(temp2[i-1]+temp[i]) #cummulative sum\n",
    "    r=uniform(0.0,1.0)      \n",
    "    counter=0\n",
    "    #proportional sampling\n",
    "    for i in temp2:\n",
    "        if r<i:\n",
    "            break\n",
    "        else:\n",
    "            counter+=1\n",
    "    return A[counter]\n",
    "A=[1.0,2.8,3.2,4,10]\n",
    "def sampling_based_on_magnitued():\n",
    "    for i in range(1,100):\n",
    "        number = pick_a_number_from_list(A)\n",
    "        print(number)\n",
    "sampling_based_on_magnitued()"
   ]
  },
  {
   "cell_type": "markdown",
   "metadata": {
    "colab_type": "text",
    "id": "D1xQy2WWB-kq"
   },
   "source": [
    "<h3> Q3: Replace the digits in the string with #</h3>\n",
    "\n",
    "consider a string that will have digits in that, we need to remove all the not digits and replace the digits with #\n",
    "<pre>\n",
    "Ex 1: A = 234                Output: ###\n",
    "Ex 2: A = a2b3c4             Output: ###\n",
    "Ex 3: A = abc                Output:   (empty string)\n",
    "Ex 5: A = #2a$#b%c%561#      Output: ####\n",
    "</pre>"
   ]
  },
  {
   "cell_type": "code",
   "execution_count": 8,
   "metadata": {
    "colab": {},
    "colab_type": "code",
    "id": "fxczi2jzB-kr"
   },
   "outputs": [
    {
     "name": "stdout",
     "output_type": "stream",
     "text": [
      "enter alphanumeric value : #2a$#b%c%561#\n"
     ]
    },
    {
     "data": {
      "text/plain": [
       "'####'"
      ]
     },
     "execution_count": 8,
     "metadata": {},
     "output_type": "execute_result"
    }
   ],
   "source": [
    "def replace_digits(String):\n",
    "    # write your code\n",
    "    s=\"\"\n",
    "    g=\"#\"\n",
    "    for i in String:\n",
    "        if i.isdigit():\n",
    "            s=s+g        #replacing digits with \"#\"\n",
    "    return s \n",
    "String=input(\"enter alphanumeric value : \")\n",
    "replace_digits(String)"
   ]
  },
  {
   "cell_type": "markdown",
   "metadata": {
    "colab_type": "text",
    "id": "j7h0Ywg7B-kw"
   },
   "source": [
    "<h3> Q4: Students marks dashboard</h3>\n",
    "\n",
    "consider the marks list of class students given two lists <br>\n",
    "Students = ['student1','student2','student3','student4','student5','student6','student7','student8','student9','student10'] <br>\n",
    "Marks = [45, 78, 12, 14, 48, 43, 45, 98, 35, 80] <br>\n",
    "from the above two lists the Student[0] got Marks[0],  Student[1] got Marks[1] and so on <br><br>\n",
    "your task is to print the name of students\n",
    "<strong>a. Who got top 5 ranks, in the descending order of marks</strong> <br>\n",
    "<strong>b. Who got least 5 ranks, in the increasing order of marks</strong><br>\n",
    "<strong>d. Who got marks between  &gt;25th percentile &lt;75th percentile, in the increasing order of marks</strong>\n",
    "\n",
    "<pre>\n",
    "Ex 1: \n",
    "Students=['student1','student2','student3','student4','student5','student6','student7','student8','student9','student10'] \n",
    "Marks = [45, 78, 12, 14, 48, 43, 47, 98, 35, 80]\n",
    "a. \n",
    "student8  98\n",
    "student10 80\n",
    "student2  78\n",
    "student5  48\n",
    "student7  47\n",
    "b.\n",
    "student3 12\n",
    "student4 14\n",
    "student9 35\n",
    "student6 43\n",
    "student1 45\n",
    "c.\n",
    "student9 35\n",
    "student6 43\n",
    "student1 45\n",
    "student7 47\n",
    "student5 48\n",
    "</pre>"
   ]
  },
  {
   "cell_type": "code",
   "execution_count": 4,
   "metadata": {
    "colab": {},
    "colab_type": "code",
    "id": "cxPJgItsB-kx"
   },
   "outputs": [
    {
     "name": "stdout",
     "output_type": "stream",
     "text": [
      "top 5 stundents and their marks are:\n",
      "[('student8', 98), ('student10', 80), ('student2', 78), ('student5', 48), ('student7', 47)]\n",
      "leasr 5 students and their marks are:\n",
      "[('student3', 12), ('student4', 14), ('student9', 35), ('student6', 43), ('student1', 45)]\n",
      "students with 25th and 75th percentile are:\n",
      "[('student9', 35), ('student6', 43), ('student1', 45), ('student7', 47), ('student5', 48)]\n"
     ]
    }
   ],
   "source": [
    "def display_dash_board(students, marks):\n",
    "    dict={}\n",
    "    count=0\n",
    "    top_5_students=[]\n",
    "    least_5_students=[]\n",
    "    students_within_25_and_75=[]\n",
    "    #creating a dictionary with students and marks\n",
    "    for i in students:\n",
    "        dict[i]=marks[count]\n",
    "        count+=1\n",
    "    #sorting dictionary\n",
    "    dict1 = sorted(dict.items(),key=lambda x: x[1])\n",
    "    #for least 5 students\n",
    "    for i in range(5):\n",
    "        least_5_students.append(dict1[i])\n",
    "    #for top 5 students\n",
    "    for i in range(1,6):\n",
    "        top_5_students.append(dict1[(len(dict)-i)])\n",
    "    #calculating 25th and 75th percentile\n",
    "    p_25=len(dict)//4\n",
    "    p_75=int((len(dict)*(3/4)))\n",
    "    # list for marks within 25th and 75th percentile\n",
    "    for i in dict1[p_25:p_75]:\n",
    "        students_within_25_and_75.append(i)\n",
    "    return top_5_students, least_5_students, students_within_25_and_75\n",
    "students = ['student1','student2','student3','student4','student5','student6','student7','student8','student9','student10'] \n",
    "marks = [45, 78, 12, 14, 48, 43, 47, 98, 35, 80]\n",
    "top_5_students, least_5_students, students_within_25_and_75 = display_dash_board(students, marks)\n",
    "print(\"top 5 stundents and their marks are:\")\n",
    "print(top_5_students)\n",
    "print(\"leasr 5 students and their marks are:\")\n",
    "print(least_5_students)\n",
    "print(\"students with 25th and 75th percentile are:\")\n",
    "print(students_within_25_and_75)"
   ]
  },
  {
   "cell_type": "markdown",
   "metadata": {
    "colab_type": "text",
    "id": "qha0OhQHB-k1"
   },
   "source": [
    "<h3> Q5: Find the closest points</h3>\n",
    "\n",
    "consider you have given n data points in the form of list of tuples like S=[(x1,y1),(x2,y2),(x3,y3),(x4,y4),(x5,y5),..,(xn,yn)] and a point P=(p,q) <br> your task is to find 5 closest points(based on cosine distance) in S from P\n",
    "<br>cosine distance between two points (x,y) and (p,q) is defind as $cos^{-1}(\\frac{(x\\cdot p+y\\cdot q)}{\\sqrt(x^2+y^2)\\cdot\\sqrt(p^2+q^2)})$\n",
    "<pre>\n",
    "Ex:\n",
    "\n",
    "S= [(1,2),(3,4),(-1,1),(6,-7),(0, 6),(-5,-8),(-1,-1)(6,0),(1,-1)]\n",
    "P= (3,-4)\n",
    "<img src='https://i.imgur.com/vIFPOcG.jpg', width=300>\n",
    "Output:\n",
    "(6,-7)\n",
    "(1,-1)\n",
    "(6,0)\n",
    "(-5,-8)\n",
    "(-1,-1)\n",
    "</pre>"
   ]
  },
  {
   "cell_type": "code",
   "execution_count": 31,
   "metadata": {
    "colab": {},
    "colab_type": "code",
    "id": "wA5I1g-2B-k2"
   },
   "outputs": [
    {
     "name": "stdout",
     "output_type": "stream",
     "text": [
      "[(6, -7), (1, -1), (6, 0), (-5, -8), (-1, -1)]\n"
     ]
    }
   ],
   "source": [
    "import math\n",
    "\n",
    "def closest_points_to_p(S, P):\n",
    "    S.sort(key=lambda x: math.acos(((x[0]*p[0])+(x[1]*p[1]))/\n",
    "                                  ((math.sqrt((x[0]**2)+(x[1]**2)))*(math.sqrt((p[0]**2)+(p[1]**2))))))\n",
    "    return S  # its list of tuples\n",
    "p=(3,-4)\n",
    "s = [(1, 2), (3, 4), (-1, 1), (6, -7), (0, 6), (-5, -8), (-1, -1), (6, 0), (1, -1)]\n",
    "points = closest_points_to_p(s, p)\n",
    "print(points[:5])\n"
   ]
  },
  {
   "cell_type": "markdown",
   "metadata": {
    "colab_type": "text",
    "id": "-g11jeAiB-k5"
   },
   "source": [
    "<h3> Q6: Find Which line separates oranges and apples</h3>\n",
    "consider you have given two set of data points in the form of list of tuples like \n",
    "<pre>\n",
    "Red =[(R11,R12),(R21,R22),(R31,R32),(R41,R42),(R51,R52),..,(Rn1,Rn2)]\n",
    "Blue=[(B11,B12),(B21,B22),(B31,B32),(B41,B42),(B51,B52),..,(Bm1,Bm2)]\n",
    "</pre>\n",
    "and set of line equations(in the string formate, i.e list of strings)\n",
    "<pre>\n",
    "Lines = [a1x+b1y+c1,a2x+b2y+c2,a3x+b3y+c3,a4x+b4y+c4,..,K lines]\n",
    "Note: you need to string parsing here and get the coefficients of x,y and intercept\n",
    "</pre>\n",
    "your task is to for each line that is given print \"YES\"/\"NO\", you will print yes, if all the red points are one side of the line and blue points are other side of the line, otherwise no\n",
    "<pre>\n",
    "Ex:\n",
    "Red= [(1,1),(2,1),(4,2),(2,4), (-1,4)]\n",
    "Blue= [(-2,-1),(-1,-2),(-3,-2),(-3,-1),(1,-3)]\n",
    "Lines=[\"1x+1y+0\",\"1x-1y+0\",\"1x+0y-3\",\"0x+1y-0.5\"]\n",
    "<img src='https://i.imgur.com/DoQf7mE.jpg' width=400>\n",
    "Output:\n",
    "YES\n",
    "NO\n",
    "NO\n",
    "YES\n",
    "</pre>"
   ]
  },
  {
   "cell_type": "code",
   "execution_count": 28,
   "metadata": {
    "colab": {},
    "colab_type": "code",
    "id": "eRxExaTRB-k6"
   },
   "outputs": [
    {
     "name": "stdout",
     "output_type": "stream",
     "text": [
      "YES\n",
      "NO\n",
      "NO\n",
      "YES\n"
     ]
    }
   ],
   "source": [
    "import math\n",
    "def i_am_the_one(red,blue,line):\n",
    "    x,s=line.split(\"x\")\n",
    "    y,z=s.split(\"y\")\n",
    "    x=float(x) # x coeffient\n",
    "    z=-float(z) \n",
    "    g=float(y) # y coeffient\n",
    "    count1=0\n",
    "    count2=0\n",
    "    for i in red:\n",
    "        equation=((x*i[0])+(g*i[1]))\n",
    "        if equation>z:\n",
    "            count1+=1\n",
    "        else:\n",
    "            count2+=1\n",
    "    count3=0\n",
    "    count4=0\n",
    "    if (count1 ==len(red) or count2==len(red)):\n",
    "        for j in blue:\n",
    "            equation1=((x*j[0])+(g*j[1]))\n",
    "            if equation1<z:\n",
    "                count3+=1\n",
    "            else:\n",
    "                count4+=1\n",
    "    if count1==count3 or count2==count4:\n",
    "        return \"YES\"\n",
    "    else:\n",
    "        return \"NO\"\n",
    "Red= [(1,1),(2,1),(4,2),(2,4), (-1,4)]\n",
    "Blue= [(-2,-1),(-1,-2),(-3,-2),(-3,-1),(1,-3)]\n",
    "Lines=[\"1x+1y+0\",\"1x-1y+0\",\"1x+0y-3\",\"0x+1y-0.5\"]\n",
    "\n",
    "for i in Lines:\n",
    "    yes_or_no = i_am_the_one(Red, Blue, i)\n",
    "    print(yes_or_no) # the returned value"
   ]
  },
  {
   "cell_type": "markdown",
   "metadata": {
    "colab_type": "text",
    "id": "9OBpURbNB-k9"
   },
   "source": [
    "<h3> Q7: Filling the missing values in the specified formate</h3>\n",
    "You will be given a string with digits and '\\_'(missing value) symbols you have to replace the '\\_' symbols as explained \n",
    "<pre>\n",
    "Ex 1: _, _, _, 24 ==> 24/4, 24/4, 24/4, 24/4 i.e we. have distributed the 24 equally to all 4 places <br>\n",
    "Ex 2: 40, _, _, _, 60 ==> (60+40)/5,(60+40)/5,(60+40)/5,(60+40)/5,(60+40)/5 ==> 20, 20, 20, 20, 20 i.e. the sum of (60+40) is distributed qually to all 5 places<br>\n",
    "Ex 3: 80, _, _, _, _  ==> 80/5,80/5,80/5,80/5,80/5 ==> 16, 16, 16, 16, 16 i.e. the 80 is distributed qually to all 5 missing values that are right to it<br>\n",
    "Ex 4: _, _, 30, _, _, _, 50, _, _  \n",
    "==> we will fill the missing values from left to right \n",
    "    a. first we will distribute the 30 to left two missing values (10, 10, 10, _, _, _, 50, _, _)\n",
    "    b. now distribute the sum (10+50) missing values in between (10, 10, 12, 12, 12, 12, 12, _, _) \n",
    "    c. now we will distribute 12 to right side missing values (10, 10, 12, 12, 12, 12, 4, 4, 4)\n",
    "</pre>\n",
    "for a given string with comma seprate values, which will have both missing values numbers like ex: \"_, _, x, _, _, _\"\n",
    "you need fill the missing values\n",
    "\n",
    "Q: your program reads a string like ex: \"_, _, x, _, _, _\" and returns the filled sequence\n",
    "\n",
    "Ex: \n",
    "<pre>\n",
    "Input1: \"_,_,_,24\"\n",
    "Output1: 6,6,6,6\n",
    "\n",
    "Input2: \"40,_,_,_,60\"\n",
    "Output2: 20,20,20,20,20\n",
    "\n",
    "Input3: \"80,_,_,_,_\"\n",
    "Output3: 16,16,16,16,16\n",
    "\n",
    "Input4: \"_,_,30,_,_,_,50,_,_\"\n",
    "Output4: 10,10,12,12,12,12,4,4,4\n",
    "</pre>\n",
    "\n"
   ]
  },
  {
   "cell_type": "code",
   "execution_count": 2,
   "metadata": {
    "colab": {},
    "colab_type": "code",
    "id": "nZmpzHs_B-k-"
   },
   "outputs": [
    {
     "name": "stdout",
     "output_type": "stream",
     "text": [
      "[6.0, 6.0, 6.0, 6.0]\n",
      "[20.0, 20.0, 20.0, 20.0, 20.0]\n",
      "[16.0, 16.0, 16.0, 16.0, 16.0]\n",
      "[10.0, 10.0, 12.0, 12.0, 12.0, 12.0, 4.0, 4.0, 4.0]\n"
     ]
    }
   ],
   "source": [
    "def curve_smoothing(string):\n",
    "    flag=\"true\"\n",
    "    s=str(string).split(\",\")\n",
    "    temp=[]\n",
    "    temp1=[]\n",
    "    counter=0\n",
    "    index=[]\n",
    "    z=0\n",
    "    li=[]\n",
    "    total_parts=0\n",
    "    total=0\n",
    "    if (s[0]==\"_\" and s[-1]!=\"_\") or (s[0]!=\"_\" and s[-1]==\"_\"):\n",
    "        for m in s:\n",
    "            if m==\"_\":\n",
    "                counter+=1\n",
    "            else:\n",
    "                temp.append(m)\n",
    "        total_parts=float(temp[0])/len(s)\n",
    "        for m in range(len(s)):\n",
    "            s[m]=total_parts\n",
    "    elif (s[0]!=\"_\" and s[-1]!=\"_\"):\n",
    "        for t in s:\n",
    "            if t==\"_\":\n",
    "                counter+=1\n",
    "            else:\n",
    "                temp.append(t)\n",
    "        for t in temp:\n",
    "            total+=float(t)\n",
    "            total_parts=total/len(s)\n",
    "        for m in range(len(s)):\n",
    "            s[m]=total_parts\n",
    "    else:\n",
    "        while flag==\"true\":\n",
    "           if \"_\" in s:\n",
    "               for i in range(z,len(s)):\n",
    "                    if s[i]==\"_\":\n",
    "                        counter+=1\n",
    "                        index.append(i)\n",
    "                    else:\n",
    "                        temp1.append(s[i])\n",
    "                        li.append(i)\n",
    "                        z=i+1\n",
    "                        break\n",
    "        \n",
    "               if counter>0:\n",
    "                    if (len(temp1)==1):\n",
    "                        total=float(temp1[0])\n",
    "                        total_parts=(total)/(counter+1)\n",
    "                    else:\n",
    "                        total=0\n",
    "                        for i in temp1:\n",
    "                            total+=float(i)\n",
    "                        total_parts=total/(counter+2)\n",
    "                    for g in index:\n",
    "                        s[g]=total_parts\n",
    "           if \"_\" not in s:\n",
    "                flag=\"false\"\n",
    "           temp1.clear()\n",
    "           temp1.append(total_parts)\n",
    "           counter=0\n",
    "           index.clear()\n",
    "        for h in li:\n",
    "            if h!=0 or h!=len(s):\n",
    "                s[h]=s[h+1]\n",
    "    return s\n",
    "                        \n",
    "        \n",
    "q=[\"_,_,_,24\",\"40,_,_,_,60\",\"80,_,_,_,_\",\"_,_,30,_,_,_,50,_,_\"]\n",
    "for r in q:\n",
    "    u=curve_smoothing(r)\n",
    "    print(u)\n",
    "\n"
   ]
  },
  {
   "cell_type": "markdown",
   "metadata": {
    "colab_type": "text",
    "id": "RBz4pzlfB-lB"
   },
   "source": [
    "<h3> Q8: Filling the missing values in the specified formate</h3>\n",
    "You will be given a list of lists, each sublist will be of length 2 i.e. [[x,y],[p,q],[l,m]..[r,s]]\n",
    "consider its like a martrix of n rows and two columns\n",
    "1. the first column F will contain only 5 uniques values (F1, F2, F3, F4, F5)\n",
    "2. the second column S will contain only 3 uniques values (S1, S2, S3)\n",
    "<pre>\n",
    "your task is to find\n",
    "a. Probability of P(F=F1|S==S1), P(F=F1|S==S2), P(F=F1|S==S3)\n",
    "b. Probability of P(F=F2|S==S1), P(F=F2|S==S2), P(F=F2|S==S3)\n",
    "c. Probability of P(F=F3|S==S1), P(F=F3|S==S2), P(F=F3|S==S3)\n",
    "d. Probability of P(F=F4|S==S1), P(F=F4|S==S2), P(F=F4|S==S3)\n",
    "e. Probability of P(F=F5|S==S1), P(F=F5|S==S2), P(F=F5|S==S3)\n",
    "</pre>\n",
    "Ex:\n",
    "\n",
    "<pre>\n",
    "[[F1,S1],[F2,S2],[F3,S3],[F1,S2],[F2,S3],[F3,S2],[F2,S1],[F4,S1],[F4,S3],[F5,S1]]\n",
    "\n",
    "a. P(F=F1|S==S1)=1/4, P(F=F1|S==S2)=1/3, P(F=F1|S==S3)=0/3\n",
    "b. P(F=F2|S==S1)=1/4, P(F=F2|S==S2)=1/3, P(F=F2|S==S3)=1/3\n",
    "c. P(F=F3|S==S1)=0/4, P(F=F3|S==S2)=1/3, P(F=F3|S==S3)=1/3\n",
    "d. P(F=F4|S==S1)=1/4, P(F=F4|S==S2)=0/3, P(F=F4|S==S3)=1/3\n",
    "e. P(F=F5|S==S1)=1/4, P(F=F5|S==S2)=0/3, P(F=F5|S==S3)=0/3\n",
    "</pre>\n",
    "\n",
    "\n"
   ]
  },
  {
   "cell_type": "code",
   "execution_count": 60,
   "metadata": {
    "colab": {},
    "colab_type": "code",
    "id": "e-1giz1MB-lC"
   },
   "outputs": [
    {
     "name": "stdout",
     "output_type": "stream",
     "text": [
      "P(F=F1|S==S1)=1/4,P(F=F1|S==S1)=1/3,P(F=F1|S==S1)=0/3,\n",
      "\n",
      "P(F=F1|S==S1)=1/4,P(F=F1|S==S1)=1/3,P(F=F1|S==S1)=1/3,\n",
      "\n",
      "P(F=F1|S==S1)=0/4,P(F=F1|S==S1)=1/3,P(F=F1|S==S1)=1/3,\n",
      "\n",
      "P(F=F1|S==S1)=1/4,P(F=F1|S==S1)=0/3,P(F=F1|S==S1)=1/3,\n",
      "\n",
      "P(F=F1|S==S1)=1/4,P(F=F1|S==S1)=0/3,P(F=F1|S==S1)=0/3,\n",
      "\n"
     ]
    }
   ],
   "source": [
    "def compute_conditional_probabilites(A):\n",
    "    list=['F1','F2','F3','F4','F5']\n",
    "    list1=['S1','S2','S3']\n",
    "    for i in list:\n",
    "        for j in list1:\n",
    "            count1=0\n",
    "            count2=0\n",
    "            for k in A:\n",
    "                if k[0]==i and k[1]==j:\n",
    "                    count1+=1\n",
    "                if k[1]==j:\n",
    "                    count2+=1\n",
    "            print(\"P(F=F1|S==S1)={}/{}\".format(count1,count2),end=\",\")\n",
    "        print(\"\\n\")\n",
    "    \n",
    "A = [['F1','S1'],['F2','S2'],['F3','S3'],['F1','S2'],['F2','S3'],['F3','S2'],['F2','S1'],['F4','S1'],['F4','S3'],['F5','S1']]\n",
    "\n",
    "compute_conditional_probabilites(A)\n"
   ]
  },
  {
   "cell_type": "markdown",
   "metadata": {
    "colab_type": "text",
    "id": "n4HS87QmB-lF"
   },
   "source": [
    "<h3> Q9: Given two sentances S1, S2</h3>\n",
    "You will be given two sentances S1, S2 your task is to find \n",
    "<pre>\n",
    "a. Number of common words between S1, S2\n",
    "b. Words in S1 but not in S2\n",
    "c. Words in S2 but not in S1\n",
    "</pre>\n",
    "\n",
    "Ex: \n",
    "<pre>\n",
    "S1= \"the first column F will contain only 5 uniques values\"\n",
    "S2= \"the second column S will contain only 3 uniques values\"\n",
    "Output:\n",
    "a. 7\n",
    "b. ['first','F','5']\n",
    "c. ['second','S','3']\n",
    "</pre>"
   ]
  },
  {
   "cell_type": "code",
   "execution_count": 5,
   "metadata": {
    "colab": {},
    "colab_type": "code",
    "id": "Ez7hlHK0B-lG"
   },
   "outputs": [
    {
     "name": "stdout",
     "output_type": "stream",
     "text": [
      "a.7\n",
      "b.{'F', 'first', '5'}\n",
      "c.{'3', 'second', 'S'}\n"
     ]
    }
   ],
   "source": [
    "def string_features(S1, S2):\n",
    "    #spliting the words\n",
    "    set1=S1.split(\" \")\n",
    "    set2=S2.split(\" \")\n",
    "    #converting to set\n",
    "    set1=set(set1)      #typecasting\n",
    "    set2=set(set2)      #typecasting\n",
    "    common_words=set1.intersection(set2) #finding common words \n",
    "    a=len(common_words)            #number of common words in given two sentences\n",
    "    b=set1-set2                    #Words in S1 but not in S2\n",
    "    c=set2-set1                    #Words in S2 but not in S1\n",
    "\n",
    "    return a, b, c\n",
    "\n",
    "S1= \"the first column F will contain only 5 uniques values\"\n",
    "S2= \"the second column S will contain only 3 uniques values\"\n",
    "a,b,c = string_features(S1, S2)\n",
    "print(\"a.{}\".format(a))\n",
    "print(\"b.{}\".format(b))\n",
    "print(\"c.{}\".format(c))"
   ]
  },
  {
   "cell_type": "markdown",
   "metadata": {
    "colab_type": "text",
    "id": "XefXVEjCB-lI"
   },
   "source": [
    "<h3> Q10: Given two sentances S1, S2</h3>\n",
    "You will be given a list of lists, each sublist will be of length 2 i.e. [[x,y],[p,q],[l,m]..[r,s]]\n",
    "consider its like a martrix of n rows and two columns\n",
    "\n",
    "a. the first column Y will contain interger values <br>\n",
    "b. the second column $Y_{score}$ will be having float values <br>\n",
    "Your task is to find the value of $f(Y,Y_{score}) = -1*\\frac{1}{n}\\Sigma_{for each Y,Y_{score} pair}(Ylog10(Y_{score})+(1-Y)log10(1-Y_{score}))$ here n is the number of rows in the matrix\n",
    "<pre>\n",
    "Ex:\n",
    "[[1, 0.4], [0, 0.5], [0, 0.9], [0, 0.3], [0, 0.6], [1, 0.1], [1, 0.9], [1, 0.8]]\n",
    "output:\n",
    "0.4243099\n",
    "</pre>\n",
    "$\\frac{-1}{8}\\cdot((1\\cdot log_{10}(0.4)+0\\cdot log_{10}(0.6))+(0\\cdot log_{10}(0.5)+1\\cdot log_{10}(0.5)) + ... + (1\\cdot log_{10}(0.8)+0\\cdot log_{10}(0.2)) )$"
   ]
  },
  {
   "cell_type": "code",
   "execution_count": 47,
   "metadata": {
    "colab": {},
    "colab_type": "code",
    "id": "N9zkagyNB-lJ"
   },
   "outputs": [
    {
     "name": "stdout",
     "output_type": "stream",
     "text": [
      "0.42430993457031635\n"
     ]
    }
   ],
   "source": [
    "def compute_log_loss(A):\n",
    "    s=0\n",
    "    for i in A:\n",
    "        s=s+(i[0]*math.log10(i[1]))+(((1-i[0])*math.log10(1-i[1])))\n",
    "    loss=(-1/len(A))*s\n",
    "    return loss\n",
    "\n",
    "A = [[1, 0.4], [0, 0.5], [0, 0.9], [0, 0.3], [0, 0.6], [1, 0.1], [1, 0.9], [1, 0.8]]\n",
    "loss = compute_log_loss(A)\n",
    "print(loss)"
   ]
  },
  {
   "cell_type": "code",
   "execution_count": null,
   "metadata": {},
   "outputs": [],
   "source": []
  }
 ],
 "metadata": {
  "colab": {
   "collapsed_sections": [],
   "name": "1.Python Assignment.ipynb",
   "provenance": []
  },
  "kernelspec": {
   "display_name": "Python 3",
   "language": "python",
   "name": "python3"
  },
  "language_info": {
   "codemirror_mode": {
    "name": "ipython",
    "version": 3
   },
   "file_extension": ".py",
   "mimetype": "text/x-python",
   "name": "python",
   "nbconvert_exporter": "python",
   "pygments_lexer": "ipython3",
   "version": "3.7.6"
  }
 },
 "nbformat": 4,
 "nbformat_minor": 1
}
